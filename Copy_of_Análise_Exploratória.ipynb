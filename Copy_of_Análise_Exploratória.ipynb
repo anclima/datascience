{
  "nbformat": 4,
  "nbformat_minor": 0,
  "metadata": {
    "colab": {
      "name": "Copy of Análise Exploratória.ipynb",
      "provenance": [],
      "collapsed_sections": [],
      "include_colab_link": true
    },
    "kernelspec": {
      "name": "python3",
      "display_name": "Python 3"
    }
  },
  "cells": [
    {
      "cell_type": "markdown",
      "metadata": {
        "id": "view-in-github",
        "colab_type": "text"
      },
      "source": [
        "<a href=\"https://colab.research.google.com/github/anclima/datascience/blob/master/Copy_of_An%C3%A1lise_Explorat%C3%B3ria.ipynb\" target=\"_parent\"><img src=\"https://colab.research.google.com/assets/colab-badge.svg\" alt=\"Open In Colab\"/></a>"
      ]
    },
    {
      "cell_type": "markdown",
      "metadata": {
        "id": "vvplGyW2N3rX",
        "colab_type": "text"
      },
      "source": [
        "# Análise Exploratória\n",
        "\n",
        "É dificil delimitar o que é analise exploratória, pois ela envolve toda a etapa a partir da aquisição do banco de dados e importação deste.\n",
        "\n",
        "As técnicas são inúmeras e dependentes de cada problema e *dataset*. O objetivo desta aula é mostrar algumas técnicas comuns a todos os projetos de *Data Science* que você irá se deparar.\n",
        "\n",
        "Para começar, vou importar um *dataset* contendo as ocorrências com a aviação civil no Brasil."
      ]
    },
    {
      "cell_type": "code",
      "metadata": {
        "id": "_azt2zlNZEZH",
        "colab_type": "code",
        "outputId": "cf6effe2-fa2c-4bf4-c03d-560e6b0af634",
        "colab": {
          "base_uri": "https://localhost:8080/",
          "height": 347
        }
      },
      "source": [
        "# importar os pacotes necessários\n",
        "import pandas as pd\n",
        "\n",
        "# importar o arquivo csv\n",
        "df = pd.read_csv(\"https://raw.githubusercontent.com/carlosfab/curso_data_science_na_pratica/master/modulo_02/ocorrencias_aviacao.csv\",\n",
        "                index_col='codigo_ocorrencia')\n",
        "\n",
        "# ver as primeiras entradas\n",
        "df.head()"
      ],
      "execution_count": 0,
      "outputs": [
        {
          "output_type": "execute_result",
          "data": {
            "text/html": [
              "<div>\n",
              "<style scoped>\n",
              "    .dataframe tbody tr th:only-of-type {\n",
              "        vertical-align: middle;\n",
              "    }\n",
              "\n",
              "    .dataframe tbody tr th {\n",
              "        vertical-align: top;\n",
              "    }\n",
              "\n",
              "    .dataframe thead th {\n",
              "        text-align: right;\n",
              "    }\n",
              "</style>\n",
              "<table border=\"1\" class=\"dataframe\">\n",
              "  <thead>\n",
              "    <tr style=\"text-align: right;\">\n",
              "      <th></th>\n",
              "      <th>ocorrencia_classificacao</th>\n",
              "      <th>ocorrencia_tipo</th>\n",
              "      <th>ocorrencia_tipo_categoria</th>\n",
              "      <th>ocorrencia_tipo_icao</th>\n",
              "      <th>ocorrencia_latitude</th>\n",
              "      <th>ocorrencia_longitude</th>\n",
              "      <th>ocorrencia_cidade</th>\n",
              "      <th>ocorrencia_uf</th>\n",
              "      <th>ocorrencia_pais</th>\n",
              "      <th>ocorrencia_aerodromo</th>\n",
              "      <th>ocorrencia_dia</th>\n",
              "      <th>ocorrencia_horario</th>\n",
              "      <th>investigacao_aeronave_liberada</th>\n",
              "      <th>investigacao_status</th>\n",
              "      <th>divulgacao_relatorio_numero</th>\n",
              "      <th>divulgacao_relatorio_publicado</th>\n",
              "      <th>divulgacao_dia_publicacao</th>\n",
              "      <th>total_recomendacoes</th>\n",
              "      <th>total_aeronaves_envolvidas</th>\n",
              "      <th>ocorrencia_saida_pista</th>\n",
              "      <th>ocorrencia_dia_extracao</th>\n",
              "    </tr>\n",
              "    <tr>\n",
              "      <th>codigo_ocorrencia</th>\n",
              "      <th></th>\n",
              "      <th></th>\n",
              "      <th></th>\n",
              "      <th></th>\n",
              "      <th></th>\n",
              "      <th></th>\n",
              "      <th></th>\n",
              "      <th></th>\n",
              "      <th></th>\n",
              "      <th></th>\n",
              "      <th></th>\n",
              "      <th></th>\n",
              "      <th></th>\n",
              "      <th></th>\n",
              "      <th></th>\n",
              "      <th></th>\n",
              "      <th></th>\n",
              "      <th></th>\n",
              "      <th></th>\n",
              "      <th></th>\n",
              "      <th></th>\n",
              "    </tr>\n",
              "  </thead>\n",
              "  <tbody>\n",
              "    <tr>\n",
              "      <th>201305055424986</th>\n",
              "      <td>ACIDENTE</td>\n",
              "      <td>FALHA DO MOTOR EM VOO</td>\n",
              "      <td>FALHA OU MAU FUNCIONAMENTO DO MOTOR</td>\n",
              "      <td>SCF-PP</td>\n",
              "      <td>-9.9085</td>\n",
              "      <td>-63.0333</td>\n",
              "      <td>ARIQUEMES</td>\n",
              "      <td>RO</td>\n",
              "      <td>BRASIL</td>\n",
              "      <td>SJOG</td>\n",
              "      <td>2013-05-05</td>\n",
              "      <td>11:00:00</td>\n",
              "      <td>NaN</td>\n",
              "      <td>FINALIZADA</td>\n",
              "      <td>***</td>\n",
              "      <td>NÃO</td>\n",
              "      <td>NaN</td>\n",
              "      <td>0</td>\n",
              "      <td>1</td>\n",
              "      <td>NÃO</td>\n",
              "      <td>2018-08-28</td>\n",
              "    </tr>\n",
              "    <tr>\n",
              "      <th>201605160250139</th>\n",
              "      <td>INCIDENTE GRAVE</td>\n",
              "      <td>COLISÃO COM OBSTÁCULO DURANTE A DECOLAGEM E POUSO</td>\n",
              "      <td>COLISÃO COM OBSTÁCULO DURANTE A DECOLAGEM E POUSO</td>\n",
              "      <td>CTOL</td>\n",
              "      <td>-11.2644</td>\n",
              "      <td>-61.2589</td>\n",
              "      <td>CACOAL</td>\n",
              "      <td>RO</td>\n",
              "      <td>BRASIL</td>\n",
              "      <td>SSKW</td>\n",
              "      <td>2016-05-13</td>\n",
              "      <td>19:19:00</td>\n",
              "      <td>SIM</td>\n",
              "      <td>ATIVA</td>\n",
              "      <td>IG-084/CENIPA/2016</td>\n",
              "      <td>NÃO</td>\n",
              "      <td>NaN</td>\n",
              "      <td>0</td>\n",
              "      <td>1</td>\n",
              "      <td>NÃO</td>\n",
              "      <td>2018-08-28</td>\n",
              "    </tr>\n",
              "    <tr>\n",
              "      <th>201805021421302</th>\n",
              "      <td>INCIDENTE</td>\n",
              "      <td>AERÓDROMO</td>\n",
              "      <td>AERÓDROMO</td>\n",
              "      <td>ADRM</td>\n",
              "      <td>-11.4956</td>\n",
              "      <td>-61.4508</td>\n",
              "      <td>CACOAL</td>\n",
              "      <td>RO</td>\n",
              "      <td>BRASIL</td>\n",
              "      <td>SSKW</td>\n",
              "      <td>2018-03-09</td>\n",
              "      <td>22:40:00</td>\n",
              "      <td>SIM</td>\n",
              "      <td>FINALIZADA</td>\n",
              "      <td>***</td>\n",
              "      <td>NÃO</td>\n",
              "      <td>NaN</td>\n",
              "      <td>0</td>\n",
              "      <td>1</td>\n",
              "      <td>NÃO</td>\n",
              "      <td>2018-08-28</td>\n",
              "    </tr>\n",
              "    <tr>\n",
              "      <th>201311259977425</th>\n",
              "      <td>INCIDENTE GRAVE</td>\n",
              "      <td>POUSO SEM TREM</td>\n",
              "      <td>CONTATO ANORMAL COM A PISTA</td>\n",
              "      <td>ARC</td>\n",
              "      <td>-11.4956</td>\n",
              "      <td>-61.4508</td>\n",
              "      <td>CACOAL</td>\n",
              "      <td>RO</td>\n",
              "      <td>BRASIL</td>\n",
              "      <td>SSKW</td>\n",
              "      <td>2013-11-25</td>\n",
              "      <td>12:32:00</td>\n",
              "      <td>NaN</td>\n",
              "      <td>FINALIZADA</td>\n",
              "      <td>IG-209/CENIPA/2013</td>\n",
              "      <td>SIM</td>\n",
              "      <td>2014-04-07</td>\n",
              "      <td>0</td>\n",
              "      <td>1</td>\n",
              "      <td>NÃO</td>\n",
              "      <td>2018-08-28</td>\n",
              "    </tr>\n",
              "    <tr>\n",
              "      <th>201103187273112</th>\n",
              "      <td>INCIDENTE</td>\n",
              "      <td>OUTROS</td>\n",
              "      <td>OUTROS</td>\n",
              "      <td>OTHR</td>\n",
              "      <td>-13.1950</td>\n",
              "      <td>-60.8184</td>\n",
              "      <td>CEREJEIRAS</td>\n",
              "      <td>RO</td>\n",
              "      <td>BRASIL</td>\n",
              "      <td>****</td>\n",
              "      <td>2011-03-18</td>\n",
              "      <td>13:30:00</td>\n",
              "      <td>NaN</td>\n",
              "      <td>FINALIZADA</td>\n",
              "      <td>***</td>\n",
              "      <td>NÃO</td>\n",
              "      <td>NaN</td>\n",
              "      <td>0</td>\n",
              "      <td>1</td>\n",
              "      <td>NÃO</td>\n",
              "      <td>2018-08-28</td>\n",
              "    </tr>\n",
              "  </tbody>\n",
              "</table>\n",
              "</div>"
            ],
            "text/plain": [
              "                  ocorrencia_classificacao  ... ocorrencia_dia_extracao\n",
              "codigo_ocorrencia                           ...                        \n",
              "201305055424986                   ACIDENTE  ...              2018-08-28\n",
              "201605160250139            INCIDENTE GRAVE  ...              2018-08-28\n",
              "201805021421302                  INCIDENTE  ...              2018-08-28\n",
              "201311259977425            INCIDENTE GRAVE  ...              2018-08-28\n",
              "201103187273112                  INCIDENTE  ...              2018-08-28\n",
              "\n",
              "[5 rows x 21 columns]"
            ]
          },
          "metadata": {
            "tags": []
          },
          "execution_count": 29
        }
      ]
    },
    {
      "cell_type": "markdown",
      "metadata": {
        "id": "XwaLOO7Okb_v",
        "colab_type": "text"
      },
      "source": [
        "## Resumo do DataFrame\n",
        "\n",
        "Executando o método `info()` em uma variável, você obtém um resumo geral sobre todas as variáveis (colunas) do seu conjunto de dados.\n",
        "\n",
        "Você consegue ver a quantidade de entradas, valores não-nulos e o tipo de cada variável. Também é informado a quantidade de memória que está sendo usado para carregar o *DataFrame* na máquina."
      ]
    },
    {
      "cell_type": "code",
      "metadata": {
        "id": "UBv2e6cgjnKN",
        "colab_type": "code",
        "outputId": "a8f18252-d53f-4974-873a-1494f7f0e1b4",
        "colab": {
          "base_uri": "https://localhost:8080/",
          "height": 478
        }
      },
      "source": [
        "# ver o resumo do df\n",
        "df.info()"
      ],
      "execution_count": 0,
      "outputs": [
        {
          "output_type": "stream",
          "text": [
            "<class 'pandas.core.frame.DataFrame'>\n",
            "Int64Index: 5208 entries, 201305055424986 to 201309012098180\n",
            "Data columns (total 21 columns):\n",
            "ocorrencia_classificacao          5208 non-null object\n",
            "ocorrencia_tipo                   5208 non-null object\n",
            "ocorrencia_tipo_categoria         5208 non-null object\n",
            "ocorrencia_tipo_icao              5208 non-null object\n",
            "ocorrencia_latitude               5208 non-null float64\n",
            "ocorrencia_longitude              5208 non-null float64\n",
            "ocorrencia_cidade                 5208 non-null object\n",
            "ocorrencia_uf                     5208 non-null object\n",
            "ocorrencia_pais                   5208 non-null object\n",
            "ocorrencia_aerodromo              5208 non-null object\n",
            "ocorrencia_dia                    5208 non-null object\n",
            "ocorrencia_horario                5208 non-null object\n",
            "investigacao_aeronave_liberada    1110 non-null object\n",
            "investigacao_status               5208 non-null object\n",
            "divulgacao_relatorio_numero       5208 non-null object\n",
            "divulgacao_relatorio_publicado    5208 non-null object\n",
            "divulgacao_dia_publicacao         1261 non-null object\n",
            "total_recomendacoes               5208 non-null int64\n",
            "total_aeronaves_envolvidas        5208 non-null int64\n",
            "ocorrencia_saida_pista            5208 non-null object\n",
            "ocorrencia_dia_extracao           5208 non-null object\n",
            "dtypes: float64(2), int64(2), object(17)\n",
            "memory usage: 895.1+ KB\n"
          ],
          "name": "stdout"
        }
      ]
    },
    {
      "cell_type": "markdown",
      "metadata": {
        "id": "ZYNI__MijnVF",
        "colab_type": "text"
      },
      "source": [
        "## Identificar o tipo de cada coluna\n",
        "\n",
        "Apesar de ser possível identificar os tipos de cada coluna usando `info()`, você pode extrair apenas essa informação com o atributo `dtypes`. \n",
        "\n",
        "Tipos das variáveis é uma informação importante para você colocar no seu Dicionário de Variáveis de um projeto, pois garante uma boa prática de documentação do projeto."
      ]
    },
    {
      "cell_type": "code",
      "metadata": {
        "id": "GLwLSkWxjnjV",
        "colab_type": "code",
        "outputId": "567a8240-a1bc-4a78-f554-7c20c0843dc1",
        "colab": {
          "base_uri": "https://localhost:8080/",
          "height": 407
        }
      },
      "source": [
        "# identificar os tipos de variáveis\n",
        "df.dtypes"
      ],
      "execution_count": 0,
      "outputs": [
        {
          "output_type": "execute_result",
          "data": {
            "text/plain": [
              "ocorrencia_classificacao           object\n",
              "ocorrencia_tipo                    object\n",
              "ocorrencia_tipo_categoria          object\n",
              "ocorrencia_tipo_icao               object\n",
              "ocorrencia_latitude               float64\n",
              "ocorrencia_longitude              float64\n",
              "ocorrencia_cidade                  object\n",
              "ocorrencia_uf                      object\n",
              "ocorrencia_pais                    object\n",
              "ocorrencia_aerodromo               object\n",
              "ocorrencia_dia                     object\n",
              "ocorrencia_horario                 object\n",
              "investigacao_aeronave_liberada     object\n",
              "investigacao_status                object\n",
              "divulgacao_relatorio_numero        object\n",
              "divulgacao_relatorio_publicado     object\n",
              "divulgacao_dia_publicacao          object\n",
              "total_recomendacoes                 int64\n",
              "total_aeronaves_envolvidas          int64\n",
              "ocorrencia_saida_pista             object\n",
              "ocorrencia_dia_extracao            object\n",
              "dtype: object"
            ]
          },
          "metadata": {
            "tags": []
          },
          "execution_count": 31
        }
      ]
    },
    {
      "cell_type": "markdown",
      "metadata": {
        "id": "62RwhqUBo9WO",
        "colab_type": "text"
      },
      "source": [
        "## Valores únicos\n",
        "\n",
        "Para ver quais são todos os valroes únicos de uma coluna, é conveniente usar o método `unique()`.\n"
      ]
    },
    {
      "cell_type": "code",
      "metadata": {
        "id": "3IJUXeFjpqcf",
        "colab_type": "code",
        "outputId": "d943b4f3-dbc7-4141-bc45-93e221e52d73",
        "colab": {
          "base_uri": "https://localhost:8080/",
          "height": 567
        }
      },
      "source": [
        "df.ocorrencia_tipo.unique()"
      ],
      "execution_count": 0,
      "outputs": [
        {
          "output_type": "execute_result",
          "data": {
            "text/plain": [
              "array(['FALHA DO MOTOR EM VOO',\n",
              "       'COLISÃO COM OBSTÁCULO DURANTE A DECOLAGEM E POUSO', 'AERÓDROMO',\n",
              "       'POUSO SEM TREM', 'OUTROS', 'PERDA DE CONTROLE NO SOLO',\n",
              "       'POUSO LONGO', 'TRÁFEGO AÉREO', 'PERDA DE CONTROLE EM VOO',\n",
              "       'COM TREM DE POUSO', 'INDETERMINADO', 'ESTOURO DE PNEU',\n",
              "       'VOO CONTROLADO CONTRA O TERRENO', 'EXCURSÃO DE PISTA',\n",
              "       'POUSO BRUSCO', 'CAUSADO POR FENÔMENO METEOROLÓGICO EM VOO',\n",
              "       'INCURSÃO EM PISTA', 'VAZAMENTO DE OUTROS FLUIDOS', 'COM ROTOR',\n",
              "       'FALHA OU MAU FUNCIONAMENTO DE SISTEMA / COMPONENTE ',\n",
              "       'PERDA DE COMPONENTE EM VOO', 'SOPRO DE REATOR',\n",
              "       'COM PARA-BRISAS / JANELA / PORTA', 'COM LANÇAMENTO DE CARGA',\n",
              "       'POUSO ANTES DA PISTA', 'F.O.D.', 'PROBLEMAS FISIOLÓGICOS',\n",
              "       'DESCOMPRESSÃO NÃO INTENCIONAL / EXPLOSIVA',\n",
              "       'COLISÃO DE VEÍCULO COM AERONAVE', 'FOGO NO SOLO', 'FOGO EM VOO',\n",
              "       'CAUSADO POR FENÔMENO METEOROLÓGICO NO SOLO', 'COM PESSOAL EM VOO',\n",
              "       'COLISÃO DE AERONAVES EM VOO', 'FUMAÇA NA CABINE',\n",
              "       'COLISÃO COM OBSTÁCULOS NO SOLO', 'PERDA DE COMPONENTE NO SOLO',\n",
              "       'SOPRO DE ROTOR', 'FALHA DO MOTOR NO SOLO', 'SUPERAQUECIMENTO',\n",
              "       'COM COMANDOS DE VOO', 'FALHA ESTRUTURAL',\n",
              "       'POUSO EM LOCAL NÃO PREVISTO', 'DESORIENTAÇÃO ESPACIAL',\n",
              "       'VAZAMENTO DE COMBUSTÍVEL', 'PANE SECA',\n",
              "       'COLISÃO COM AERONAVE NO SOLO', 'CORTE INVOLUNTÁRIO DO MOTOR',\n",
              "       'TURBULÊNCIA', 'OPERAÇÃO A BAIXA ALTITUDE', 'COM HÉLICE',\n",
              "       'COM LANÇAMENTO DE PESSOAS', 'COLISÃO EM VOO COM OBJETO REBOCADO',\n",
              "       'AERONAVE ATINGIDA POR OBJETO',\n",
              "       'FALHA OU MAU FUNCIONAMENTO DO MOTOR',\n",
              "       'CONTATO ANORMAL COM A PISTA ', 'CORTANTE DE VENTO / TEMPESTADE',\n",
              "       'OPERAÇÕES NO SOLO', 'CAUSADO POR RICOCHETE',\n",
              "       'RELACIONADO COM SECURITY', 'PERDA DA CONSCIÊNCIA',\n",
              "       'ALARME FALSO DE FOGO OU DE SUPERAQUECIMENTO', 'MANOBRA ABRUPTA'],\n",
              "      dtype=object)"
            ]
          },
          "metadata": {
            "tags": []
          },
          "execution_count": 34
        }
      ]
    },
    {
      "cell_type": "markdown",
      "metadata": {
        "id": "YqII2Yszpt1a",
        "colab_type": "text"
      },
      "source": [
        "Enquanto o método acima retorna a lista de valores únicos, muitas vezes queremos saber a frequência com que elas ocorrem.\n",
        "\n",
        "No exemplo da coluna `ocorrencia_tipo`, para saber a quantidade de cada tipo de ocorrência, podemos usar `value_counts()`."
      ]
    },
    {
      "cell_type": "code",
      "metadata": {
        "id": "F-4woPm_qBi1",
        "colab_type": "code",
        "outputId": "64fcc073-7316-4679-cdc2-bf90469d57fb",
        "colab": {
          "base_uri": "https://localhost:8080/",
          "height": 1000
        }
      },
      "source": [
        "df.ocorrencia_tipo.value_counts()"
      ],
      "execution_count": 0,
      "outputs": [
        {
          "output_type": "execute_result",
          "data": {
            "text/plain": [
              "FALHA DO MOTOR EM VOO                                  682\n",
              "ESTOURO DE PNEU                                        604\n",
              "FALHA OU MAU FUNCIONAMENTO DE SISTEMA / COMPONENTE     574\n",
              "PERDA DE CONTROLE NO SOLO                              492\n",
              "OUTROS                                                 350\n",
              "PERDA DE CONTROLE EM VOO                               345\n",
              "COM TREM DE POUSO                                      325\n",
              "COLISÃO COM OBSTÁCULO DURANTE A DECOLAGEM E POUSO      190\n",
              "TRÁFEGO AÉREO                                          138\n",
              "COLISÃO COM OBSTÁCULOS NO SOLO                         113\n",
              "CAUSADO POR FENÔMENO METEOROLÓGICO EM VOO              108\n",
              "POUSO EM LOCAL NÃO PREVISTO                            102\n",
              "PANE SECA                                              101\n",
              "POUSO SEM TREM                                          90\n",
              "POUSO BRUSCO                                            90\n",
              "INDETERMINADO                                           76\n",
              "COM PARA-BRISAS / JANELA / PORTA                        71\n",
              "VAZAMENTO DE OUTROS FLUIDOS                             66\n",
              "PERDA DE COMPONENTE EM VOO                              61\n",
              "POUSO LONGO                                             43\n",
              "DESCOMPRESSÃO NÃO INTENCIONAL / EXPLOSIVA               43\n",
              "F.O.D.                                                  40\n",
              "EXCURSÃO DE PISTA                                       34\n",
              "OPERAÇÃO A BAIXA ALTITUDE                               34\n",
              "FALHA DO MOTOR NO SOLO                                  29\n",
              "COLISÃO COM AERONAVE NO SOLO                            28\n",
              "PERDA DE COMPONENTE NO SOLO                             28\n",
              "VOO CONTROLADO CONTRA O TERRENO                         25\n",
              "SUPERAQUECIMENTO                                        24\n",
              "COM COMANDOS DE VOO                                     24\n",
              "                                                      ... \n",
              "COLISÃO DE VEÍCULO COM AERONAVE                         20\n",
              "COM HÉLICE                                              18\n",
              "VAZAMENTO DE COMBUSTÍVEL                                17\n",
              "COM ROTOR                                               15\n",
              "DESORIENTAÇÃO ESPACIAL                                  13\n",
              "SOPRO DE REATOR                                         12\n",
              "CAUSADO POR FENÔMENO METEOROLÓGICO NO SOLO              12\n",
              "AERONAVE ATINGIDA POR OBJETO                            10\n",
              "FOGO EM VOO                                             10\n",
              "COLISÃO DE AERONAVES EM VOO                             10\n",
              "INCURSÃO EM PISTA                                       10\n",
              "FALHA OU MAU FUNCIONAMENTO DO MOTOR                      9\n",
              "FALHA ESTRUTURAL                                         9\n",
              "COM LANÇAMENTO DE CARGA                                  8\n",
              "PROBLEMAS FISIOLÓGICOS                                   8\n",
              "CORTE INVOLUNTÁRIO DO MOTOR                              7\n",
              "TURBULÊNCIA                                              4\n",
              "SOPRO DE ROTOR                                           3\n",
              "COM PESSOAL EM VOO                                       3\n",
              "CONTATO ANORMAL COM A PISTA                              3\n",
              "AERÓDROMO                                                2\n",
              "COM LANÇAMENTO DE PESSOAS                                2\n",
              "OPERAÇÕES NO SOLO                                        2\n",
              "COLISÃO EM VOO COM OBJETO REBOCADO                       2\n",
              "RELACIONADO COM SECURITY                                 1\n",
              "ALARME FALSO DE FOGO OU DE SUPERAQUECIMENTO              1\n",
              "PERDA DA CONSCIÊNCIA                                     1\n",
              "CORTANTE DE VENTO / TEMPESTADE                           1\n",
              "CAUSADO POR RICOCHETE                                    1\n",
              "MANOBRA ABRUPTA                                          1\n",
              "Name: ocorrencia_tipo, Length: 63, dtype: int64"
            ]
          },
          "metadata": {
            "tags": []
          },
          "execution_count": 35
        }
      ]
    },
    {
      "cell_type": "markdown",
      "metadata": {
        "id": "HV0418aAqDgt",
        "colab_type": "text"
      },
      "source": [
        "Para transformar a célula acima em porcentagem, é só dividir os valores pela quantidade total de linhas do nosso conunto de dados.\n",
        "\n",
        "Como vimos lá atrás, a quantidade de linhas é obtida por `df.shape[0]`."
      ]
    },
    {
      "cell_type": "code",
      "metadata": {
        "id": "WQcM5AnzqV7K",
        "colab_type": "code",
        "outputId": "0aa2bf40-a602-4b4b-d733-e2a3d1d40304",
        "colab": {
          "base_uri": "https://localhost:8080/",
          "height": 1000
        }
      },
      "source": [
        "df.ocorrencia_tipo.value_counts() / df.shape[0]"
      ],
      "execution_count": 0,
      "outputs": [
        {
          "output_type": "execute_result",
          "data": {
            "text/plain": [
              "FALHA DO MOTOR EM VOO                                  0.130952\n",
              "ESTOURO DE PNEU                                        0.115975\n",
              "FALHA OU MAU FUNCIONAMENTO DE SISTEMA / COMPONENTE     0.110215\n",
              "PERDA DE CONTROLE NO SOLO                              0.094470\n",
              "OUTROS                                                 0.067204\n",
              "PERDA DE CONTROLE EM VOO                               0.066244\n",
              "COM TREM DE POUSO                                      0.062404\n",
              "COLISÃO COM OBSTÁCULO DURANTE A DECOLAGEM E POUSO      0.036482\n",
              "TRÁFEGO AÉREO                                          0.026498\n",
              "COLISÃO COM OBSTÁCULOS NO SOLO                         0.021697\n",
              "CAUSADO POR FENÔMENO METEOROLÓGICO EM VOO              0.020737\n",
              "POUSO EM LOCAL NÃO PREVISTO                            0.019585\n",
              "PANE SECA                                              0.019393\n",
              "POUSO SEM TREM                                         0.017281\n",
              "POUSO BRUSCO                                           0.017281\n",
              "INDETERMINADO                                          0.014593\n",
              "COM PARA-BRISAS / JANELA / PORTA                       0.013633\n",
              "VAZAMENTO DE OUTROS FLUIDOS                            0.012673\n",
              "PERDA DE COMPONENTE EM VOO                             0.011713\n",
              "POUSO LONGO                                            0.008257\n",
              "DESCOMPRESSÃO NÃO INTENCIONAL / EXPLOSIVA              0.008257\n",
              "F.O.D.                                                 0.007680\n",
              "EXCURSÃO DE PISTA                                      0.006528\n",
              "OPERAÇÃO A BAIXA ALTITUDE                              0.006528\n",
              "FALHA DO MOTOR NO SOLO                                 0.005568\n",
              "COLISÃO COM AERONAVE NO SOLO                           0.005376\n",
              "PERDA DE COMPONENTE NO SOLO                            0.005376\n",
              "VOO CONTROLADO CONTRA O TERRENO                        0.004800\n",
              "SUPERAQUECIMENTO                                       0.004608\n",
              "COM COMANDOS DE VOO                                    0.004608\n",
              "                                                         ...   \n",
              "COLISÃO DE VEÍCULO COM AERONAVE                        0.003840\n",
              "COM HÉLICE                                             0.003456\n",
              "VAZAMENTO DE COMBUSTÍVEL                               0.003264\n",
              "COM ROTOR                                              0.002880\n",
              "DESORIENTAÇÃO ESPACIAL                                 0.002496\n",
              "SOPRO DE REATOR                                        0.002304\n",
              "CAUSADO POR FENÔMENO METEOROLÓGICO NO SOLO             0.002304\n",
              "AERONAVE ATINGIDA POR OBJETO                           0.001920\n",
              "FOGO EM VOO                                            0.001920\n",
              "COLISÃO DE AERONAVES EM VOO                            0.001920\n",
              "INCURSÃO EM PISTA                                      0.001920\n",
              "FALHA OU MAU FUNCIONAMENTO DO MOTOR                    0.001728\n",
              "FALHA ESTRUTURAL                                       0.001728\n",
              "COM LANÇAMENTO DE CARGA                                0.001536\n",
              "PROBLEMAS FISIOLÓGICOS                                 0.001536\n",
              "CORTE INVOLUNTÁRIO DO MOTOR                            0.001344\n",
              "TURBULÊNCIA                                            0.000768\n",
              "SOPRO DE ROTOR                                         0.000576\n",
              "COM PESSOAL EM VOO                                     0.000576\n",
              "CONTATO ANORMAL COM A PISTA                            0.000576\n",
              "AERÓDROMO                                              0.000384\n",
              "COM LANÇAMENTO DE PESSOAS                              0.000384\n",
              "OPERAÇÕES NO SOLO                                      0.000384\n",
              "COLISÃO EM VOO COM OBJETO REBOCADO                     0.000384\n",
              "RELACIONADO COM SECURITY                               0.000192\n",
              "ALARME FALSO DE FOGO OU DE SUPERAQUECIMENTO            0.000192\n",
              "PERDA DA CONSCIÊNCIA                                   0.000192\n",
              "CORTANTE DE VENTO / TEMPESTADE                         0.000192\n",
              "CAUSADO POR RICOCHETE                                  0.000192\n",
              "MANOBRA ABRUPTA                                        0.000192\n",
              "Name: ocorrencia_tipo, Length: 63, dtype: float64"
            ]
          },
          "metadata": {
            "tags": []
          },
          "execution_count": 36
        }
      ]
    },
    {
      "cell_type": "markdown",
      "metadata": {
        "id": "9sG-aUq4qZLI",
        "colab_type": "text"
      },
      "source": [
        "Ou seja, cerca de 74% das pessoas que alugam a bicicleta são homens e 26% mulheres."
      ]
    },
    {
      "cell_type": "markdown",
      "metadata": {
        "id": "wSOaN7MNqiIV",
        "colab_type": "text"
      },
      "source": [
        "## Filtrando valores\n",
        "\n",
        "Existem dois métodos principais para resgatar e filtrar valores em um *DataFrame*, cada um com suas características distintas.\n",
        "\n",
        "No lugar de tentar explicá-los, algo que é muito confuso para quem nunca utilizou nenhum deles, vou dar um exemplo da utilização de cada um deles."
      ]
    },
    {
      "cell_type": "markdown",
      "metadata": {
        "id": "nDzIm_utxptI",
        "colab_type": "text"
      },
      "source": [
        "### loc\n",
        "\n",
        "Para usar esta opção, você deve entender que o mesmo funciona da seguinte maneira:\n",
        "\n",
        "`loc[<linhas>, <colunas>]`\n",
        "\n",
        "Este método pode ser usado em duas situações:\n",
        "\n",
        "* Selecionar linhas por *labels*/*index*\n",
        "* Selecionar linhas baseado em um *array* booleano\n",
        "\n",
        "Vou dar um exemplo da primeira situação em que podemos usar `loc`. Suponha que eu precise extrair a latitude e longitude do local onde aconteceu a ocorrência de número `200808073991179`:"
      ]
    },
    {
      "cell_type": "code",
      "metadata": {
        "id": "ECNVog1pu5E5",
        "colab_type": "code",
        "outputId": "02726da1-c72a-4f69-ebc8-5a8e8751e7a7",
        "colab": {
          "base_uri": "https://localhost:8080/",
          "height": 70
        }
      },
      "source": [
        "df.loc[200808073991179, ['ocorrencia_latitude', 'ocorrencia_longitude']]"
      ],
      "execution_count": 0,
      "outputs": [
        {
          "output_type": "execute_result",
          "data": {
            "text/plain": [
              "ocorrencia_latitude     -9.1194\n",
              "ocorrencia_longitude   -68.5978\n",
              "Name: 200808073991179, dtype: object"
            ]
          },
          "metadata": {
            "tags": []
          },
          "execution_count": 40
        }
      ]
    },
    {
      "cell_type": "markdown",
      "metadata": {
        "id": "WruXmQeIvcXG",
        "colab_type": "text"
      },
      "source": [
        "Vou dar um exemplo da segunda situação em que podemos usar loc. Suponha que eu queria saber todos os voos onde eu tive ocorrência do tipo \"FALHA DO MOTOR EM VOO\":"
      ]
    },
    {
      "cell_type": "code",
      "metadata": {
        "id": "nj4exmnDstX4",
        "colab_type": "code",
        "outputId": "46c79900-ff6a-4ab0-fbbc-a4350a126354",
        "colab": {
          "base_uri": "https://localhost:8080/",
          "height": 331
        }
      },
      "source": [
        "# ver apenas as 5 primeiras entradas da situação\n",
        "df.loc[df[\"ocorrencia_tipo\"] == \"FALHA DO MOTOR EM VOO\"].head()"
      ],
      "execution_count": 0,
      "outputs": [
        {
          "output_type": "execute_result",
          "data": {
            "text/html": [
              "<div>\n",
              "<style scoped>\n",
              "    .dataframe tbody tr th:only-of-type {\n",
              "        vertical-align: middle;\n",
              "    }\n",
              "\n",
              "    .dataframe tbody tr th {\n",
              "        vertical-align: top;\n",
              "    }\n",
              "\n",
              "    .dataframe thead th {\n",
              "        text-align: right;\n",
              "    }\n",
              "</style>\n",
              "<table border=\"1\" class=\"dataframe\">\n",
              "  <thead>\n",
              "    <tr style=\"text-align: right;\">\n",
              "      <th></th>\n",
              "      <th>ocorrencia_classificacao</th>\n",
              "      <th>ocorrencia_tipo</th>\n",
              "      <th>ocorrencia_tipo_categoria</th>\n",
              "      <th>ocorrencia_tipo_icao</th>\n",
              "      <th>ocorrencia_latitude</th>\n",
              "      <th>ocorrencia_longitude</th>\n",
              "      <th>ocorrencia_cidade</th>\n",
              "      <th>ocorrencia_uf</th>\n",
              "      <th>ocorrencia_pais</th>\n",
              "      <th>ocorrencia_aerodromo</th>\n",
              "      <th>ocorrencia_dia</th>\n",
              "      <th>ocorrencia_horario</th>\n",
              "      <th>investigacao_aeronave_liberada</th>\n",
              "      <th>investigacao_status</th>\n",
              "      <th>divulgacao_relatorio_numero</th>\n",
              "      <th>divulgacao_relatorio_publicado</th>\n",
              "      <th>divulgacao_dia_publicacao</th>\n",
              "      <th>total_recomendacoes</th>\n",
              "      <th>total_aeronaves_envolvidas</th>\n",
              "      <th>ocorrencia_saida_pista</th>\n",
              "      <th>ocorrencia_dia_extracao</th>\n",
              "    </tr>\n",
              "    <tr>\n",
              "      <th>codigo_ocorrencia</th>\n",
              "      <th></th>\n",
              "      <th></th>\n",
              "      <th></th>\n",
              "      <th></th>\n",
              "      <th></th>\n",
              "      <th></th>\n",
              "      <th></th>\n",
              "      <th></th>\n",
              "      <th></th>\n",
              "      <th></th>\n",
              "      <th></th>\n",
              "      <th></th>\n",
              "      <th></th>\n",
              "      <th></th>\n",
              "      <th></th>\n",
              "      <th></th>\n",
              "      <th></th>\n",
              "      <th></th>\n",
              "      <th></th>\n",
              "      <th></th>\n",
              "      <th></th>\n",
              "    </tr>\n",
              "  </thead>\n",
              "  <tbody>\n",
              "    <tr>\n",
              "      <th>201305055424986</th>\n",
              "      <td>ACIDENTE</td>\n",
              "      <td>FALHA DO MOTOR EM VOO</td>\n",
              "      <td>FALHA OU MAU FUNCIONAMENTO DO MOTOR</td>\n",
              "      <td>SCF-PP</td>\n",
              "      <td>-9.9085</td>\n",
              "      <td>-63.0333</td>\n",
              "      <td>ARIQUEMES</td>\n",
              "      <td>RO</td>\n",
              "      <td>BRASIL</td>\n",
              "      <td>SJOG</td>\n",
              "      <td>2013-05-05</td>\n",
              "      <td>11:00:00</td>\n",
              "      <td>NaN</td>\n",
              "      <td>FINALIZADA</td>\n",
              "      <td>***</td>\n",
              "      <td>NÃO</td>\n",
              "      <td>NaN</td>\n",
              "      <td>0</td>\n",
              "      <td>1</td>\n",
              "      <td>NÃO</td>\n",
              "      <td>2018-08-28</td>\n",
              "    </tr>\n",
              "    <tr>\n",
              "      <th>201211159478138</th>\n",
              "      <td>ACIDENTE</td>\n",
              "      <td>FALHA DO MOTOR EM VOO</td>\n",
              "      <td>FALHA OU MAU FUNCIONAMENTO DO MOTOR</td>\n",
              "      <td>SCF-PP</td>\n",
              "      <td>-16.7588</td>\n",
              "      <td>-49.4405</td>\n",
              "      <td>ABADIA DE GOIÁS</td>\n",
              "      <td>GO</td>\n",
              "      <td>BRASIL</td>\n",
              "      <td>****</td>\n",
              "      <td>2012-11-15</td>\n",
              "      <td>12:40:00</td>\n",
              "      <td>NaN</td>\n",
              "      <td>FINALIZADA</td>\n",
              "      <td>***</td>\n",
              "      <td>NÃO</td>\n",
              "      <td>NaN</td>\n",
              "      <td>0</td>\n",
              "      <td>1</td>\n",
              "      <td>NÃO</td>\n",
              "      <td>2018-08-28</td>\n",
              "    </tr>\n",
              "    <tr>\n",
              "      <th>200811167138358</th>\n",
              "      <td>ACIDENTE</td>\n",
              "      <td>FALHA DO MOTOR EM VOO</td>\n",
              "      <td>FALHA OU MAU FUNCIONAMENTO DO MOTOR</td>\n",
              "      <td>SCF-PP</td>\n",
              "      <td>2.8100</td>\n",
              "      <td>-61.3831</td>\n",
              "      <td>ALTO ALEGRE</td>\n",
              "      <td>RR</td>\n",
              "      <td>BRASIL</td>\n",
              "      <td>****</td>\n",
              "      <td>2008-11-16</td>\n",
              "      <td>12:25:00</td>\n",
              "      <td>NaN</td>\n",
              "      <td>FINALIZADA</td>\n",
              "      <td>A-566/CENIPA/2015</td>\n",
              "      <td>SIM</td>\n",
              "      <td>2016-03-18</td>\n",
              "      <td>3</td>\n",
              "      <td>1</td>\n",
              "      <td>NÃO</td>\n",
              "      <td>2018-08-28</td>\n",
              "    </tr>\n",
              "    <tr>\n",
              "      <th>201111224132085</th>\n",
              "      <td>ACIDENTE</td>\n",
              "      <td>FALHA DO MOTOR EM VOO</td>\n",
              "      <td>FALHA OU MAU FUNCIONAMENTO DO MOTOR</td>\n",
              "      <td>SCF-PP</td>\n",
              "      <td>0.7394</td>\n",
              "      <td>-62.0214</td>\n",
              "      <td>ALTO ALEGRE</td>\n",
              "      <td>RR</td>\n",
              "      <td>BRASIL</td>\n",
              "      <td>****</td>\n",
              "      <td>2011-11-22</td>\n",
              "      <td>16:40:00</td>\n",
              "      <td>NaN</td>\n",
              "      <td>FINALIZADA</td>\n",
              "      <td>A-038/CENIPA/2013</td>\n",
              "      <td>SIM</td>\n",
              "      <td>2013-08-22</td>\n",
              "      <td>2</td>\n",
              "      <td>1</td>\n",
              "      <td>NÃO</td>\n",
              "      <td>2018-08-28</td>\n",
              "    </tr>\n",
              "    <tr>\n",
              "      <th>201509183338691</th>\n",
              "      <td>ACIDENTE</td>\n",
              "      <td>FALHA DO MOTOR EM VOO</td>\n",
              "      <td>FALHA OU MAU FUNCIONAMENTO DO MOTOR</td>\n",
              "      <td>SCF-PP</td>\n",
              "      <td>-23.0061</td>\n",
              "      <td>-44.3025</td>\n",
              "      <td>ANGRA DOS REIS</td>\n",
              "      <td>RJ</td>\n",
              "      <td>BRASIL</td>\n",
              "      <td>****</td>\n",
              "      <td>2015-09-18</td>\n",
              "      <td>13:30:00</td>\n",
              "      <td>NaN</td>\n",
              "      <td>FINALIZADA</td>\n",
              "      <td>***</td>\n",
              "      <td>NÃO</td>\n",
              "      <td>NaN</td>\n",
              "      <td>0</td>\n",
              "      <td>1</td>\n",
              "      <td>NÃO</td>\n",
              "      <td>2018-08-28</td>\n",
              "    </tr>\n",
              "  </tbody>\n",
              "</table>\n",
              "</div>"
            ],
            "text/plain": [
              "                  ocorrencia_classificacao  ... ocorrencia_dia_extracao\n",
              "codigo_ocorrencia                           ...                        \n",
              "201305055424986                   ACIDENTE  ...              2018-08-28\n",
              "201211159478138                   ACIDENTE  ...              2018-08-28\n",
              "200811167138358                   ACIDENTE  ...              2018-08-28\n",
              "201111224132085                   ACIDENTE  ...              2018-08-28\n",
              "201509183338691                   ACIDENTE  ...              2018-08-28\n",
              "\n",
              "[5 rows x 21 columns]"
            ]
          },
          "metadata": {
            "tags": []
          },
          "execution_count": 42
        }
      ]
    },
    {
      "cell_type": "markdown",
      "metadata": {
        "id": "2uN4UFfou3-9",
        "colab_type": "text"
      },
      "source": [
        "### iloc\n",
        "\n",
        "O uso do `iloc` é mais simples, pois a gente passa seleciona linhas e colunas usando números, na mesma ordem em que aparecem no *DataFrame*:\n",
        "\n",
        "`loc[<numero_da_linha>, <numero_da_coluna>]`\n",
        "\n",
        "Eu consigo selecionar um *range* de interesse. Por exemplo, para selecionar as 3 primeiras entradas e as 4 primeiras colunas, eu faria da seguinte maneira:"
      ]
    },
    {
      "cell_type": "code",
      "metadata": {
        "id": "Tc_C5ISuxC4K",
        "colab_type": "code",
        "outputId": "3587f120-d30a-414a-a9b9-dd25b0182502",
        "colab": {
          "base_uri": "https://localhost:8080/",
          "height": 184
        }
      },
      "source": [
        "df.iloc[:3,:4]"
      ],
      "execution_count": 0,
      "outputs": [
        {
          "output_type": "execute_result",
          "data": {
            "text/html": [
              "<div>\n",
              "<style scoped>\n",
              "    .dataframe tbody tr th:only-of-type {\n",
              "        vertical-align: middle;\n",
              "    }\n",
              "\n",
              "    .dataframe tbody tr th {\n",
              "        vertical-align: top;\n",
              "    }\n",
              "\n",
              "    .dataframe thead th {\n",
              "        text-align: right;\n",
              "    }\n",
              "</style>\n",
              "<table border=\"1\" class=\"dataframe\">\n",
              "  <thead>\n",
              "    <tr style=\"text-align: right;\">\n",
              "      <th></th>\n",
              "      <th>ocorrencia_classificacao</th>\n",
              "      <th>ocorrencia_tipo</th>\n",
              "      <th>ocorrencia_tipo_categoria</th>\n",
              "      <th>ocorrencia_tipo_icao</th>\n",
              "    </tr>\n",
              "    <tr>\n",
              "      <th>codigo_ocorrencia</th>\n",
              "      <th></th>\n",
              "      <th></th>\n",
              "      <th></th>\n",
              "      <th></th>\n",
              "    </tr>\n",
              "  </thead>\n",
              "  <tbody>\n",
              "    <tr>\n",
              "      <th>201305055424986</th>\n",
              "      <td>ACIDENTE</td>\n",
              "      <td>FALHA DO MOTOR EM VOO</td>\n",
              "      <td>FALHA OU MAU FUNCIONAMENTO DO MOTOR</td>\n",
              "      <td>SCF-PP</td>\n",
              "    </tr>\n",
              "    <tr>\n",
              "      <th>201605160250139</th>\n",
              "      <td>INCIDENTE GRAVE</td>\n",
              "      <td>COLISÃO COM OBSTÁCULO DURANTE A DECOLAGEM E POUSO</td>\n",
              "      <td>COLISÃO COM OBSTÁCULO DURANTE A DECOLAGEM E POUSO</td>\n",
              "      <td>CTOL</td>\n",
              "    </tr>\n",
              "    <tr>\n",
              "      <th>201805021421302</th>\n",
              "      <td>INCIDENTE</td>\n",
              "      <td>AERÓDROMO</td>\n",
              "      <td>AERÓDROMO</td>\n",
              "      <td>ADRM</td>\n",
              "    </tr>\n",
              "  </tbody>\n",
              "</table>\n",
              "</div>"
            ],
            "text/plain": [
              "                  ocorrencia_classificacao  ... ocorrencia_tipo_icao\n",
              "codigo_ocorrencia                           ...                     \n",
              "201305055424986                   ACIDENTE  ...               SCF-PP\n",
              "201605160250139            INCIDENTE GRAVE  ...                 CTOL\n",
              "201805021421302                  INCIDENTE  ...                 ADRM\n",
              "\n",
              "[3 rows x 4 columns]"
            ]
          },
          "metadata": {
            "tags": []
          },
          "execution_count": 45
        }
      ]
    }
  ]
}